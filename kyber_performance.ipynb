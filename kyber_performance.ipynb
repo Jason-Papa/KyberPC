{
 "cells": [
  {
   "cell_type": "code",
   "execution_count": 1,
   "metadata": {},
   "outputs": [
    {
     "name": "stdout",
     "output_type": "stream",
     "text": [
      "key 0.6050043106079102, encrypt 0.1540076732635498, noise 0.001878976821899414, decrypt 0.010670900344848633, total 0.7716405391693115\n"
     ]
    }
   ],
   "source": [
    "from Kyber import *\n",
    "import time\n",
    "\n",
    "\n",
    "probability_of_bit_flip_in_channel = 10**-9 # typical\n",
    "\n",
    "message = string_to_bits(\"Test!\")\n",
    "start_time = time.time()\n",
    "\n",
    "pk,sk = generate_keys()\n",
    "key_time = time.time() - start_time\n",
    "\n",
    "u, v = encrypt(message, pk)\n",
    "encrypt_time = time.time() - start_time - key_time\n",
    "\n",
    "noisy_v = add_noise_v(v, probability_of_bit_flip_in_channel)\n",
    "noisy_u = add_noise_u(u, probability_of_bit_flip_in_channel)\n",
    "noise_time = time.time() - start_time  - encrypt_time - key_time\n",
    "\n",
    "decrypted = decrypt(noisy_u, noisy_v, sk)\n",
    "decrypt_time = time.time() - start_time - noise_time - encrypt_time - key_time\n",
    "total_time = time.time() - start_time\n",
    "print(f\"key {key_time}, encrypt {encrypt_time}, noise {noise_time}, decrypt {decrypt_time}, total {total_time}\")"
   ]
  },
  {
   "cell_type": "code",
   "execution_count": null,
   "metadata": {},
   "outputs": [],
   "source": []
  },
  {
   "cell_type": "code",
   "execution_count": null,
   "metadata": {},
   "outputs": [],
   "source": []
  },
  {
   "cell_type": "code",
   "execution_count": null,
   "metadata": {},
   "outputs": [],
   "source": []
  }
 ],
 "metadata": {
  "kernelspec": {
   "display_name": "Python 3",
   "language": "python",
   "name": "python3"
  },
  "language_info": {
   "codemirror_mode": {
    "name": "ipython",
    "version": 3
   },
   "file_extension": ".py",
   "mimetype": "text/x-python",
   "name": "python",
   "nbconvert_exporter": "python",
   "pygments_lexer": "ipython3",
   "version": "3.7.10"
  }
 },
 "nbformat": 4,
 "nbformat_minor": 4
}
