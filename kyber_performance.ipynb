{
 "cells": [
  {
   "cell_type": "code",
   "execution_count": 22,
   "metadata": {},
   "outputs": [
    {
     "name": "stdout",
     "output_type": "stream",
     "text": [
      "key 0.1587362289428711, encrypt 0.14052367210388184, noise 0.012819766998291016, decrypt 0.003434896469116211, total 0.3155810832977295\n"
     ]
    }
   ],
   "source": [
    "from Kyber import *\n",
    "import time\n",
    "\n",
    "\n",
    "SNR  = 65.1\n",
    "\n",
    "message = string_to_bits(\"Test!\")\n",
    "start_time = time.time()\n",
    "\n",
    "pk,sk = generate_keys()\n",
    "key_time = time.time() - start_time\n",
    "\n",
    "u, v = encrypt(message, pk)\n",
    "encrypt_time = time.time() - start_time - key_time\n",
    "\n",
    "noisy_v = add_noise_v(v, SNR)\n",
    "noisy_u = add_noise_u(u, SNR)\n",
    "noise_time = time.time() - start_time  - encrypt_time - key_time\n",
    "\n",
    "decrypted = decrypt(noisy_u, noisy_v, sk)\n",
    "decrypt_time = time.time() - start_time - noise_time - encrypt_time - key_time\n",
    "total_time = time.time() - start_time\n",
    "print(f\"key {key_time}, encrypt {encrypt_time}, noise {noise_time}, decrypt {decrypt_time}, total {total_time}\")"
   ]
  },
  {
   "cell_type": "code",
   "execution_count": null,
   "metadata": {},
   "outputs": [],
   "source": []
  },
  {
   "cell_type": "code",
   "execution_count": null,
   "metadata": {},
   "outputs": [],
   "source": []
  },
  {
   "cell_type": "code",
   "execution_count": null,
   "metadata": {},
   "outputs": [],
   "source": []
  }
 ],
 "metadata": {
  "kernelspec": {
   "display_name": "Python 3",
   "language": "python",
   "name": "python3"
  },
  "language_info": {
   "codemirror_mode": {
    "name": "ipython",
    "version": 3
   },
   "file_extension": ".py",
   "mimetype": "text/x-python",
   "name": "python",
   "nbconvert_exporter": "python",
   "pygments_lexer": "ipython3",
   "version": "3.7.10"
  }
 },
 "nbformat": 4,
 "nbformat_minor": 4
}
