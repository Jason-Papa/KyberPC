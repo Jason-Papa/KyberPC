{
 "cells": [
  {
   "cell_type": "code",
   "execution_count": 6,
   "metadata": {},
   "outputs": [
    {
     "name": "stdout",
     "output_type": "stream",
     "text": [
      "1000 0\n"
     ]
    }
   ],
   "source": [
    "from Kyber import *\n",
    "\n",
    "\n",
    "probability_of_bit_flip_in_channel = 10**-9 # typical\n",
    "correct, wrong = 0, 0\n",
    "for _ in range(1000):\n",
    "    message = \"Test!\"\n",
    "\n",
    "    pk,sk = generate_keys()\n",
    "\n",
    "    u, v = encrypt(string_to_bits(message), pk)\n",
    "\n",
    "    noisy_v = add_noise_v(v, probability_of_bit_flip_in_channel)\n",
    "    noisy_u = add_noise_u(u, probability_of_bit_flip_in_channel)\n",
    "\n",
    "    decrypted = decrypt(noisy_u, noisy_v, sk)\n",
    "    if decrypted == message:\n",
    "        correct += 1\n",
    "    else:\n",
    "        wrong += 1\n",
    "print(correct, wrong)\n"
   ]
  },
  {
   "cell_type": "code",
   "execution_count": null,
   "metadata": {},
   "outputs": [],
   "source": []
  }
 ],
 "metadata": {
  "kernelspec": {
   "display_name": "Python 3",
   "language": "python",
   "name": "python3"
  },
  "language_info": {
   "codemirror_mode": {
    "name": "ipython",
    "version": 3
   },
   "file_extension": ".py",
   "mimetype": "text/x-python",
   "name": "python",
   "nbconvert_exporter": "python",
   "pygments_lexer": "ipython3",
   "version": "3.7.10"
  }
 },
 "nbformat": 4,
 "nbformat_minor": 4
}
