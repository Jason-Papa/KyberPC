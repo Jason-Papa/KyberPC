{
 "cells": [
  {
   "cell_type": "code",
   "execution_count": 1,
   "metadata": {},
   "outputs": [
    {
     "name": "stderr",
     "output_type": "stream",
     "text": [
      "./PC/polarcodes/polarcodes/utils.py:176: DeprecationWarning: invalid escape sequence \\F\n",
      "  \"\"\"\n"
     ]
    },
    {
     "name": "stdout",
     "output_type": "stream",
     "text": [
      "Tesssssssssssssssssssssssssssssssssssssssssssssssssssssssssssssssssssssssst!\n",
      "Tesssssssssssssssssssssssssssssssssssssssssssssssssssssssssssssssssssssssst!\n",
      "Tesssssssssssssssssssssssssssssssssssssssssssssssssssssssssssssssssssssssst!\n",
      "Tesssssssssssssssssssssssssssssssssssssssssssssssssssssssssssssssssssssssst!\n",
      "Tesssssssssssssssssssssssssssssssssssssssssssssssssssssssssssssssssssssssst!\n",
      "5 correct, 0 wrong, in 6 tests, which took 9.058943033218384\n"
     ]
    }
   ],
   "source": [
    "from Kyber import *\n",
    "import sys\n",
    "sys.path.insert(1, './PC/polarcodes')\n",
    "from polarcodes import *\n",
    "import numpy as np\n",
    "import time\n",
    "import datetime\n",
    "\n",
    "correct, wrong = 0, 0\n",
    "tests = 6\n",
    "start_time = time.time() \n",
    "\n",
    "\n",
    "for test in range(1, tests):\n",
    "    message = \"Tesssssssssssssssssssssssssssssssssssssssssssssssssssssssssssssssssssssssst!\"\n",
    "\n",
    "    ## Polar Codes setup\n",
    "    K = 7*len(message)\n",
    "    if K < 256:\n",
    "        N = 256\n",
    "    else:\n",
    "        N = 256\n",
    "        while N < K:\n",
    "            N = N*2\n",
    "    PC = PolarCode(N, K)\n",
    "    PC.construction_type = 'bb'\n",
    "    SNR  = 65.1 # derived from experimental data \n",
    "    Construct(PC, SNR);\n",
    "    PC.set_message(string_to_bits(message))\n",
    "\n",
    "    ## Key generation\n",
    "    pk,sk = generate_keys()\n",
    "\n",
    "    ## encode message\n",
    "    Encode(PC);\n",
    "    encoded = PC.get_codeword()\n",
    "\n",
    "    ## encrypt message \n",
    "    u, v = encrypt(encoded, pk)\n",
    "    ## Add noise\n",
    "    noisy_v = add_noise_v(v, SNR)\n",
    "    noisy_u = add_noise_u(u, SNR)\n",
    "\n",
    "    decrypted = decrypt(noisy_u, noisy_v, sk, True)\n",
    "    PC.set_codeword(np.array(decrypted), SNR, K/N)\n",
    "    Decode(PC);\n",
    "    decoded = bits_to_string(list(PC.message_received))\n",
    "    print(decoded)\n",
    "    if decoded == message :\n",
    "        correct += 1\n",
    "    else:\n",
    "        wrong += 1\n",
    "#     if test % (tests//100) == 0:\n",
    "#         print(f\"{test} complete at {datetime.datetime.now().hour}:{datetime.datetime.now().minute}:{datetime.datetime.now().second}, with {correct} correct and {wrong} wrong\")\n",
    "total_time = time.time() - start_time\n",
    "print(f\"{correct} correct, {wrong} wrong, in {tests} tests, which took {total_time}\")\n"
   ]
  },
  {
   "cell_type": "code",
   "execution_count": 6,
   "metadata": {},
   "outputs": [
    {
     "name": "stdout",
     "output_type": "stream",
     "text": [
      "Teeeeeeeeeeeeest\n",
      "Teeeeeeeeeeeeest\n",
      "Teeeeeeeeeeeeest\n",
      "Teeeeeeeeeeeeest\n",
      "Teeeeeeeeeeeeest\n",
      "5 correct, 0 wrong, in 6 tests, which took 0.5603494644165039\n"
     ]
    }
   ],
   "source": [
    "from Kyber import *\n",
    "from Repetition_code import *\n",
    "import numpy as np\n",
    "import time\n",
    "import datetime\n",
    "\n",
    "correct, wrong = 0, 0\n",
    "tests = 6\n",
    "start_time = time.time() \n",
    "SNR  = 65.1 # derived from experimental data\n",
    "\n",
    "for test in range(1, tests):\n",
    "    message = string_to_bits(\"Teeeeeeeeeeeeest\")\n",
    "    \n",
    "    pk,sk = generate_keys()\n",
    "\n",
    "    ## encode message\n",
    "    encoded_small = repetition_encode(message)\n",
    "    \n",
    "    closest_power_of_2 = 256\n",
    "    while len(encoded_small) > closest_power_of_2:\n",
    "        closest_power_of_2 *= 2 \n",
    "    encoded = zero_padding(encoded_small, closest_power_of_2)\n",
    "    ## encrypt message \n",
    "    u, v = encrypt(encoded, pk)\n",
    "    ## Add noise\n",
    "    noisy_v = add_noise_v(v, SNR)\n",
    "    noisy_u = add_noise_u(u, SNR)\n",
    "\n",
    "    decrypted = string_to_bits(decrypt(noisy_u, noisy_v, sk))\n",
    "    decoded = repetition_decode(decrypted)\n",
    "    \n",
    "    print(bits_to_string(decoded))\n",
    "    if decoded == message :\n",
    "        correct += 1\n",
    "    else:\n",
    "        wrong += 1\n",
    "#     if test % (tests//100) == 0:\n",
    "#         print(f\"{test} complete at {datetime.datetime.now().hour}:{datetime.datetime.now().minute}:{datetime.datetime.now().second}, with {correct} correct and {wrong} wrong\")\n",
    "total_time = time.time() - start_time\n",
    "print(f\"{correct} correct, {wrong} wrong, in {tests} tests, which took {total_time}\")\n"
   ]
  },
  {
   "cell_type": "code",
   "execution_count": null,
   "metadata": {},
   "outputs": [],
   "source": []
  }
 ],
 "metadata": {
  "kernelspec": {
   "display_name": "Python 3",
   "language": "python",
   "name": "python3"
  },
  "language_info": {
   "codemirror_mode": {
    "name": "ipython",
    "version": 3
   },
   "file_extension": ".py",
   "mimetype": "text/x-python",
   "name": "python",
   "nbconvert_exporter": "python",
   "pygments_lexer": "ipython3",
   "version": "3.7.10"
  }
 },
 "nbformat": 4,
 "nbformat_minor": 4
}
