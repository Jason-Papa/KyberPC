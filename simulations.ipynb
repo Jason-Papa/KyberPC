{
 "cells": [
  {
   "cell_type": "code",
   "execution_count": 4,
   "metadata": {},
   "outputs": [
    {
<<<<<<< HEAD
     "name": "stdout",
     "output_type": "stream",
     "text": [
      "Tesssssssssssssssssssssssssssssssssssssssssssssssssssssssssssssssssssssssst!\n",
      "Tesssssssssssssssssssssssssssssssssssssssssssssssssssssssssssssssssssssssst!\n",
      "Tesssssssssssssssssssssssssssssssssssssssssssssssssssssssssssssssssssssssst!\n",
      "Tesssssssssssssssssssssssssssssssssssssssssssssssssssssssssssssssssssssssst!\n",
      "Tesssssssssssssssssssssssssssssssssssssssssssssssssssssssssssssssssssssssst!\n",
      "5 correct, 0 wrong, in 6 tests, which took 4.444332599639893\n"
=======
     "ename": "ModuleNotFoundError",
     "evalue": "No module named 'polarcodes'",
     "output_type": "error",
     "traceback": [
      "\u001b[0;31m---------------------------------------------------------------------------\u001b[0m",
      "\u001b[0;31mModuleNotFoundError\u001b[0m                       Traceback (most recent call last)",
      "\u001b[0;32m<ipython-input-4-d133f10317b1>\u001b[0m in \u001b[0;36m<module>\u001b[0;34m\u001b[0m\n\u001b[1;32m      2\u001b[0m \u001b[0;32mimport\u001b[0m \u001b[0msys\u001b[0m\u001b[0;34m\u001b[0m\u001b[0;34m\u001b[0m\u001b[0m\n\u001b[1;32m      3\u001b[0m \u001b[0msys\u001b[0m\u001b[0;34m.\u001b[0m\u001b[0mpath\u001b[0m\u001b[0;34m.\u001b[0m\u001b[0minsert\u001b[0m\u001b[0;34m(\u001b[0m\u001b[0;36m1\u001b[0m\u001b[0;34m,\u001b[0m \u001b[0;34m'\\\\PC\\\\polarcodes'\u001b[0m\u001b[0;34m)\u001b[0m\u001b[0;34m\u001b[0m\u001b[0;34m\u001b[0m\u001b[0m\n\u001b[0;32m----> 4\u001b[0;31m \u001b[0;32mfrom\u001b[0m \u001b[0mpolarcodes\u001b[0m \u001b[0;32mimport\u001b[0m \u001b[0;34m*\u001b[0m\u001b[0;34m\u001b[0m\u001b[0;34m\u001b[0m\u001b[0m\n\u001b[0m\u001b[1;32m      5\u001b[0m \u001b[0;32mimport\u001b[0m \u001b[0mnumpy\u001b[0m \u001b[0;32mas\u001b[0m \u001b[0mnp\u001b[0m\u001b[0;34m\u001b[0m\u001b[0;34m\u001b[0m\u001b[0m\n\u001b[1;32m      6\u001b[0m \u001b[0;32mimport\u001b[0m \u001b[0mtime\u001b[0m\u001b[0;34m\u001b[0m\u001b[0;34m\u001b[0m\u001b[0m\n",
      "\u001b[0;31mModuleNotFoundError\u001b[0m: No module named 'polarcodes'"
>>>>>>> 38b5140f6e47f508c2cc85e86de8646dbbbc5499
     ]
    }
   ],
   "source": [
    "from Kyber import *\n",
    "import sys\n",
    "sys.path.insert(1, '\\\\PC\\\\polarcodes')\n",
    "from polarcodes import *\n",
    "import numpy as np\n",
    "import time\n",
    "import datetime\n",
    "\n",
    "correct, wrong = 0, 0\n",
    "tests = 6\n",
    "start_time = time.time() \n",
    "\n",
    "\n",
    "for test in range(1, tests):\n",
    "    message = \"Tesssssssssssssssssssssssssssssssssssssssssssssssssssssssssssssssssssssssst!\"\n",
    "\n",
    "    ## Polar Codes setup\n",
    "    K = 7*len(message)\n",
    "    if K < 256:\n",
    "        N = 256\n",
    "    else:\n",
    "        N = 256\n",
    "        while N < K:\n",
    "            N = N*2\n",
    "    PC = PolarCode(N, K)\n",
    "    PC.construction_type = 'bb'\n",
    "    SNR  = 65.1 # derived from experimental data \n",
    "    Construct(PC, SNR);\n",
    "    PC.set_message(string_to_bits(message))\n",
    "\n",
    "    ## Key generation\n",
    "    pk,sk = generate_keys()\n",
    "\n",
    "    ## encode message\n",
    "    Encode(PC);\n",
    "    encoded = PC.get_codeword()\n",
    "\n",
    "    ## encrypt message \n",
    "    u, v = encrypt(encoded, pk)\n",
    "    ## Add noise\n",
    "    noisy_v = add_noise_v(v, SNR)\n",
    "    noisy_u = add_noise_u(u, SNR)\n",
    "\n",
    "    decrypted = decrypt(noisy_u, noisy_v, sk, True)\n",
    "    PC.set_codeword(np.array(decrypted), SNR, K/N)\n",
    "    Decode(PC);\n",
    "    decoded = bits_to_string(list(PC.message_received))\n",
    "    print(decoded)\n",
    "    if decoded == message :\n",
    "        correct += 1\n",
    "    else:\n",
    "        wrong += 1\n",
    "#     if test % (tests//100) == 0:\n",
    "#         print(f\"{test} complete at {datetime.datetime.now().hour}:{datetime.datetime.now().minute}:{datetime.datetime.now().second}, with {correct} correct and {wrong} wrong\")\n",
    "total_time = time.time() - start_time\n",
    "print(f\"{correct} correct, {wrong} wrong, in {tests} tests, which took {total_time}\")\n"
   ]
  },
  {
   "cell_type": "code",
   "execution_count": null,
   "metadata": {},
   "outputs": [],
   "source": []
  }
 ],
 "metadata": {
  "kernelspec": {
   "display_name": "Python 3",
   "language": "python",
   "name": "python3"
  },
  "language_info": {
   "codemirror_mode": {
    "name": "ipython",
    "version": 3
   },
   "file_extension": ".py",
   "mimetype": "text/x-python",
   "name": "python",
   "nbconvert_exporter": "python",
   "pygments_lexer": "ipython3",
   "version": "3.7.10"
  }
 },
 "nbformat": 4,
 "nbformat_minor": 4
}
