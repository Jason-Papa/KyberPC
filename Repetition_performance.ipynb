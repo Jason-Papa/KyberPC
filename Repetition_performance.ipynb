{
 "cells": [
  {
   "cell_type": "code",
   "execution_count": 4,
   "metadata": {},
   "outputs": [
    {
     "name": "stdout",
     "output_type": "stream",
     "text": [
      "encode 0.0001049041748046875, padding 0.0001232624053955078, noise 0.00014352798461914062, decode 0.0001494884490966797, total 0.0005424022674560547\n"
     ]
    }
   ],
   "source": [
    "from Repetition_code import *\n",
    "import random\n",
    "import time\n",
    "\n",
    "\n",
    "SNR  = 65.1\n",
    "\n",
    "message = [round(random.uniform(0,1)) for _ in range(50)]\n",
    "start_time = time.time()\n",
    "\n",
    "encoded = repetition_encode(message)\n",
    "encode_time = time.time() - start_time\n",
    "\n",
    "encoded = zero_padding(encoded, 256)\n",
    "padding_time = time.time() - start_time - encode_time\n",
    "\n",
    "noisy_message = repetition_add_noise(encoded, 0.01)\n",
    "noise_time = time.time() - start_time  - encode_time - padding_time\n",
    "\n",
    "decoded = repetition_decode(noisy_message)\n",
    "decode_time = time.time() - start_time - noise_time - padding_time - encode_time \n",
    "total_time = time.time() - start_time\n",
    "print(f\"encode {encode_time}, padding {padding_time}, noise {noise_time}, decode {decode_time}, total {total_time}\")"
   ]
  },
  {
   "cell_type": "code",
   "execution_count": null,
   "metadata": {},
   "outputs": [],
   "source": []
  }
 ],
 "metadata": {
  "kernelspec": {
   "display_name": "Python 3",
   "language": "python",
   "name": "python3"
  },
  "language_info": {
   "codemirror_mode": {
    "name": "ipython",
    "version": 3
   },
   "file_extension": ".py",
   "mimetype": "text/x-python",
   "name": "python",
   "nbconvert_exporter": "python",
   "pygments_lexer": "ipython3",
   "version": "3.7.10"
  }
 },
 "nbformat": 4,
 "nbformat_minor": 4
}
